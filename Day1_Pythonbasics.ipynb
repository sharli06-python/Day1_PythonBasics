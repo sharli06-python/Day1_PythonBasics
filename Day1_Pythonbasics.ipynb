{
 "cells": [
  {
   "cell_type": "markdown",
   "id": "ee2951e6-cea9-4e5e-a27b-e80a158ba7a0",
   "metadata": {},
   "source": [
    "### Sum of 2 Numbers"
   ]
  },
  {
   "cell_type": "code",
   "execution_count": 1,
   "id": "ee05800e-c0de-4ad4-a50c-c4d25d2011ac",
   "metadata": {},
   "outputs": [
    {
     "name": "stdout",
     "output_type": "stream",
     "text": [
      "15\n"
     ]
    }
   ],
   "source": [
    "a = 5\n",
    "b = 10\n",
    "print (a+b)"
   ]
  },
  {
   "cell_type": "markdown",
   "id": "4a0cafd6-fc5d-442a-a459-0aea7f78b8a4",
   "metadata": {},
   "source": [
    "### Printing hello with name"
   ]
  },
  {
   "cell_type": "code",
   "execution_count": 2,
   "id": "de1f656e-2fbc-47fe-ac3f-468f8ece3eef",
   "metadata": {},
   "outputs": [
    {
     "name": "stdout",
     "output_type": "stream",
     "text": [
      "Hello, sharli\n"
     ]
    }
   ],
   "source": [
    "name = 'Hello, sharli'\n",
    "print (name)"
   ]
  },
  {
   "cell_type": "markdown",
   "id": "69d78bd7-7c11-4ea5-b67d-ff02621c1fe2",
   "metadata": {},
   "source": [
    "### Area of Rectangle"
   ]
  },
  {
   "cell_type": "code",
   "execution_count": 3,
   "id": "add4146a-f194-415e-b4cf-16ea9f892d2c",
   "metadata": {},
   "outputs": [
    {
     "name": "stdout",
     "output_type": "stream",
     "text": [
      "200\n"
     ]
    }
   ],
   "source": [
    "length = 20\n",
    "width = 10\n",
    "area = (length*width)\n",
    "print (area)"
   ]
  },
  {
   "cell_type": "code",
   "execution_count": null,
   "id": "f5befc45-3401-404d-b494-49c9a040394d",
   "metadata": {},
   "outputs": [],
   "source": []
  }
 ],
 "metadata": {
  "kernelspec": {
   "display_name": "Python 3 (ipykernel)",
   "language": "python",
   "name": "python3"
  },
  "language_info": {
   "codemirror_mode": {
    "name": "ipython",
    "version": 3
   },
   "file_extension": ".py",
   "mimetype": "text/x-python",
   "name": "python",
   "nbconvert_exporter": "python",
   "pygments_lexer": "ipython3",
   "version": "3.12.9"
  }
 },
 "nbformat": 4,
 "nbformat_minor": 5
}
