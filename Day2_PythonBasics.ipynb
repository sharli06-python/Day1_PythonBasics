{
 "cells": [
  {
   "cell_type": "markdown",
   "id": "8ae4fedc-fef3-4c1f-b1ff-358e43ffca7f",
   "metadata": {},
   "source": [
    "### Average of 3 numbers"
   ]
  },
  {
   "cell_type": "code",
   "execution_count": 1,
   "id": "03e185f0-ea99-4bb7-8fa6-c982982caed3",
   "metadata": {},
   "outputs": [
    {
     "name": "stdout",
     "output_type": "stream",
     "text": [
      "Average: 19.333333333333332\n"
     ]
    }
   ],
   "source": [
    "a = 18\n",
    "b = 17\n",
    "c = 23\n",
    "average = (a+b+c) / 3\n",
    "print (\"Average:\", average)"
   ]
  },
  {
   "cell_type": "markdown",
   "id": "4ba76b1c-8296-4400-bd23-87c6f5f7f04e",
   "metadata": {},
   "source": [
    "### Simple Interest "
   ]
  },
  {
   "cell_type": "code",
   "execution_count": 3,
   "id": "ff5ce6cc-b517-431c-a4eb-0c28d3c83d99",
   "metadata": {},
   "outputs": [
    {
     "name": "stdout",
     "output_type": "stream",
     "text": [
      "Simple Interest: 190.0\n"
     ]
    }
   ],
   "source": [
    "P = 1900\n",
    "R = 5\n",
    "T = 2\n",
    "SI = (P*R*T)/100\n",
    "print (\"Simple Interest:\", SI)"
   ]
  },
  {
   "cell_type": "markdown",
   "id": "230af7a1-430f-4c35-89d1-0233d78f405c",
   "metadata": {},
   "source": [
    "### Temperature Conversion "
   ]
  },
  {
   "cell_type": "code",
   "execution_count": 5,
   "id": "6db67cf2-cba3-4215-af1a-f1fc79da34d8",
   "metadata": {},
   "outputs": [
    {
     "name": "stdout",
     "output_type": "stream",
     "text": [
      "Temperature in Fahrenheit: 86.0\n"
     ]
    }
   ],
   "source": [
    "C = 30\n",
    "Fahrenheit = (C*9/5) + 32\n",
    "print ( \"Temperature in Fahrenheit:\", Fahrenheit)"
   ]
  },
  {
   "cell_type": "markdown",
   "id": "1cd3d169-8c75-4a5d-8fc9-61ae503580e7",
   "metadata": {},
   "source": [
    "### Swapping of 2 numbers "
   ]
  },
  {
   "cell_type": "code",
   "execution_count": 6,
   "id": "29d413ac-fbf9-4770-84af-d139e9b7e6e2",
   "metadata": {},
   "outputs": [
    {
     "name": "stdout",
     "output_type": "stream",
     "text": [
      "After swapping: x= 4 y= 2\n"
     ]
    }
   ],
   "source": [
    "x = 2\n",
    "y = 4\n",
    "x,y = y,x\n",
    "print (\"After swapping: x=\", x, \"y=\",y)"
   ]
  },
  {
   "cell_type": "code",
   "execution_count": null,
   "id": "ab9bac8c-6f29-4c5a-8e8c-71b13896dee7",
   "metadata": {},
   "outputs": [],
   "source": []
  }
 ],
 "metadata": {
  "kernelspec": {
   "display_name": "Python 3 (ipykernel)",
   "language": "python",
   "name": "python3"
  },
  "language_info": {
   "codemirror_mode": {
    "name": "ipython",
    "version": 3
   },
   "file_extension": ".py",
   "mimetype": "text/x-python",
   "name": "python",
   "nbconvert_exporter": "python",
   "pygments_lexer": "ipython3",
   "version": "3.12.9"
  }
 },
 "nbformat": 4,
 "nbformat_minor": 5
}
